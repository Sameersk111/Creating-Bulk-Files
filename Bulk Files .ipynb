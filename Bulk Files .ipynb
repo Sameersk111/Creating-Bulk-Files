{
 "cells": [
  {
   "cell_type": "markdown",
   "id": "c91e301a",
   "metadata": {},
   "source": [
    "## 1.Creating Files in Bulk"
   ]
  },
  {
   "cell_type": "code",
   "execution_count": 1,
   "id": "15ad58fb",
   "metadata": {},
   "outputs": [
    {
     "name": "stdout",
     "output_type": "stream",
     "text": [
      "enter no of files to be created : 10\n"
     ]
    }
   ],
   "source": [
    "n=int(input(\"enter no of files to be created : \"))\n",
    "for i in range(1,n+1):\n",
    "    name=\"desktop/file\"+str(i)+\".txt\"\n",
    "    fd=open(name,'w')\n",
    "    fd.write('this is file '+str(i))\n",
    "    fd.close()"
   ]
  },
  {
   "cell_type": "markdown",
   "id": "baf82764",
   "metadata": {},
   "source": [
    "## 2.Reading files in Bulk "
   ]
  },
  {
   "cell_type": "code",
   "execution_count": 2,
   "id": "cf264db9",
   "metadata": {},
   "outputs": [
    {
     "name": "stdout",
     "output_type": "stream",
     "text": [
      "this is file 8\n"
     ]
    }
   ],
   "source": [
    "fd=open('desktop/file8.txt','r')\n",
    "print(fd.read())\n",
    "fd.close()"
   ]
  },
  {
   "cell_type": "markdown",
   "id": "83c5aa25",
   "metadata": {},
   "source": [
    "## 3.Reading data from bulk files"
   ]
  },
  {
   "cell_type": "code",
   "execution_count": 7,
   "id": "863d5c03",
   "metadata": {},
   "outputs": [],
   "source": [
    "data=[]\n",
    "for i in range(1,n+1):\n",
    "    name=\"desktop/file\"+str(i)+\".txt\"\n",
    "    fd=open(name,'r')\n",
    "    data.append([name,\"|\",fd.read()])\n",
    "    fd.close()"
   ]
  },
  {
   "cell_type": "markdown",
   "id": "9003a1d2",
   "metadata": {},
   "source": [
    "## 4.Reading data from bulk files using OS \n"
   ]
  },
  {
   "cell_type": "code",
   "execution_count": 12,
   "id": "e5983d63",
   "metadata": {},
   "outputs": [
    {
     "name": "stdout",
     "output_type": "stream",
     "text": [
      "desktop/desktop.ini ÿþ\n",
      "\u0000\n",
      "\u0000[\u0000.\u0000S\u0000h\u0000e\u0000l\u0000l\u0000C\u0000l\u0000a\u0000s\u0000s\u0000I\u0000n\u0000f\u0000o\u0000]\u0000\n",
      "\u0000\n",
      "\u0000L\u0000o\u0000c\u0000a\u0000l\u0000i\u0000z\u0000e\u0000d\u0000R\u0000e\u0000s\u0000o\u0000u\u0000r\u0000c\u0000e\u0000N\u0000a\u0000m\u0000e\u0000=\u0000@\u0000%\u0000S\u0000y\u0000s\u0000t\u0000e\u0000m\u0000R\u0000o\u0000o\u0000t\u0000%\u0000\\\u0000s\u0000y\u0000s\u0000t\u0000e\u0000m\u00003\u00002\u0000\\\u0000s\u0000h\u0000e\u0000l\u0000l\u00003\u00002\u0000.\u0000d\u0000l\u0000l\u0000,\u0000-\u00002\u00001\u00007\u00006\u00009\u0000\n",
      "\u0000\n",
      "\u0000I\u0000c\u0000o\u0000n\u0000R\u0000e\u0000s\u0000o\u0000u\u0000r\u0000c\u0000e\u0000=\u0000%\u0000S\u0000y\u0000s\u0000t\u0000e\u0000m\u0000R\u0000o\u0000o\u0000t\u0000%\u0000\\\u0000s\u0000y\u0000s\u0000t\u0000e\u0000m\u00003\u00002\u0000\\\u0000i\u0000m\u0000a\u0000g\u0000e\u0000r\u0000e\u0000s\u0000.\u0000d\u0000l\u0000l\u0000,\u0000-\u00001\u00008\u00003\u0000\n",
      "\u0000\n",
      "\u0000\n",
      "desktop/file1.txt this is file 1\n",
      "desktop/file10.txt this is file 10\n",
      "desktop/file2.txt this is file 2\n",
      "desktop/file3.txt this is file 3\n",
      "desktop/file4.txt this is file 4\n",
      "desktop/file5.txt this is file 5\n",
      "desktop/file6.txt this is file 6\n",
      "desktop/file7.txt this is file 7\n",
      "desktop/file8.txt this is file 8\n",
      "desktop/file9.txt this is file 9\n"
     ]
    }
   ],
   "source": [
    "import os\n",
    "files=os.listdir('desktop')\n",
    "for i in files:\n",
    "    name=\"desktop/\"+i\n",
    "    fd=open(name,'r')\n",
    "    print(name,fd.read())\n",
    "    fd.close()"
   ]
  },
  {
   "cell_type": "markdown",
   "id": "51ad06e5",
   "metadata": {},
   "source": [
    "## 5.Writing data of all files in a single file(writing directly in textfile)"
   ]
  },
  {
   "cell_type": "code",
   "execution_count": 21,
   "id": "908c0d89",
   "metadata": {},
   "outputs": [],
   "source": [
    "fd_=open('main.txt','a')\n",
    "for i in range(1,10):\n",
    "    name='desktop/file'+str(i)+'.txt'\n",
    "    fd=open(name,'r')\n",
    "    fd_.write((fd.read()))\n",
    "    fd.close()\n",
    "fd_.close()"
   ]
  },
  {
   "cell_type": "markdown",
   "id": "17795358",
   "metadata": {},
   "source": [
    "## 6.writing data of all files in a single file -(Writing through string )"
   ]
  },
  {
   "cell_type": "code",
   "execution_count": 28,
   "id": "d087b17a",
   "metadata": {},
   "outputs": [
    {
     "ename": "SyntaxError",
     "evalue": "unexpected character after line continuation character (863045761.py, line 6)",
     "output_type": "error",
     "traceback": [
      "\u001b[1;36m  File \u001b[1;32m\"C:\\Users\\user\\AppData\\Local\\Temp\\ipykernel_892\\863045761.py\"\u001b[1;36m, line \u001b[1;32m6\u001b[0m\n\u001b[1;33m    text += \\n\u001b[0m\n\u001b[1;37m             ^\u001b[0m\n\u001b[1;31mSyntaxError\u001b[0m\u001b[1;31m:\u001b[0m unexpected character after line continuation character\n"
     ]
    }
   ],
   "source": [
    "text=''\n",
    "for i in range(1,10):\n",
    "    name='desktop/file'+str(i)+'.txt'\n",
    "    fd=open(name,'r')\n",
    "    text+=fd.read()\n",
    "    fd.close()"
   ]
  },
  {
   "cell_type": "code",
   "execution_count": 27,
   "id": "78627602",
   "metadata": {},
   "outputs": [
    {
     "data": {
      "text/plain": [
       "'this is file 1\\nthis is file 2\\nthis is file 3\\nthis is file 4\\nthis is file 5\\nthis is file 6\\nthis is file 7\\nthis is file 8\\nthis is file 9\\n'"
      ]
     },
     "execution_count": 27,
     "metadata": {},
     "output_type": "execute_result"
    }
   ],
   "source": [
    "text"
   ]
  },
  {
   "cell_type": "markdown",
   "id": "0226eafa",
   "metadata": {},
   "source": []
  }
 ],
 "metadata": {
  "kernelspec": {
   "display_name": "Python 3 (ipykernel)",
   "language": "python",
   "name": "python3"
  },
  "language_info": {
   "codemirror_mode": {
    "name": "ipython",
    "version": 3
   },
   "file_extension": ".py",
   "mimetype": "text/x-python",
   "name": "python",
   "nbconvert_exporter": "python",
   "pygments_lexer": "ipython3",
   "version": "3.9.13"
  }
 },
 "nbformat": 4,
 "nbformat_minor": 5
}
